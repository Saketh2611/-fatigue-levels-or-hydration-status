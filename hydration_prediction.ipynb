{
 "cells": [
  {
   "cell_type": "markdown",
   "metadata": {},
   "source": [
    "# Hydration Status Prediction Using Random Forest and XGBoost"
   ]
  },
  {
   "cell_type": "code",
   "execution_count": null,
   "metadata": {},
   "outputs": [],
   "source": [
    "# Step 1: Import necessary libraries
",
    "import pandas as pd
",
    "import numpy as np
",
    "import seaborn as sns
",
    "import matplotlib.pyplot as plt
",
    "from sklearn.model_selection import train_test_split
",
    "from sklearn.preprocessing import LabelEncoder, StandardScaler
",
    "from sklearn.ensemble import RandomForestClassifier
",
    "from xgboost import XGBClassifier
",
    "from sklearn.metrics import accuracy_score, classification_report, confusion_matrix"
   ]
  },
  {
   "cell_type": "code",
   "execution_count": null,
   "metadata": {},
   "outputs": [],
   "source": [
    "# Step 2: Create synthetic dataset
",
    "data = {
",
    "    "Age": [25, 31, 19, 45, 37, 28, 22, 34, 40, 27],
",
    "    "Gender": ["M", "F", "M", "F", "M", "F", "M", "F", "M", "F"],
",
    "    "HeartRate": [88, 104, 76, 112, 93, 100, 82, 108, 97, 86],
",
    "    "SkinTemp": [37.1, 37.9, 36.5, 38.2, 37.0, 37.4, 36.8, 38.0, 37.5, 36.9],
",
    "    "Steps": [3200, 5400, 1800, 6100, 2400, 4700, 1500, 5300, 2000, 3000],
",
    "    "SleepHours": [7.2, 5.5, 8.0, 4.2, 6.1, 6.0, 7.5, 5.0, 6.2, 7.0],
",
    "    "WaterIntake": [2.0, 1.1, 2.5, 0.9, 1.8, 1.3, 2.2, 1.0, 1.6, 2.1],
",
    "    "SweatRate": [0.8, 1.3, 0.5, 1.6, 0.9, 1.1, 0.7, 1.4, 1.0, 0.8],
",
    "    "UrineColor": [2, 6, 1, 7, 3, 4, 2, 6, 4, 3],
",
    "    "FatigueLevel": [4, 7, 2, 9, 5, 6, 3, 8, 6, 4],
",
    "    "HydrationStatus": ["Well", "Dehydrated", "Well", "Dehydrated", "Well", "Borderline", "Well", "Dehydrated", "Borderline", "Well"]
",
    "}
",
    "df = pd.DataFrame(data)"
   ]
  },
  {
   "cell_type": "code",
   "execution_count": null,
   "metadata": {},
   "outputs": [],
   "source": [
    "# Step 3: Preprocess data
",
    "le_gender = LabelEncoder()
",
    "df["Gender"] = le_gender.fit_transform(df["Gender"])
",
    "le_target = LabelEncoder()
",
    "df["HydrationStatus"] = le_target.fit_transform(df["HydrationStatus"])
",
    "
",
    "X = df.drop("HydrationStatus", axis=1)
",
    "y = df["HydrationStatus"]
",
    "
",
    "scaler = StandardScaler()
",
    "X_scaled = scaler.fit_transform(X)
",
    "
",
    "X_train, X_test, y_train, y_test = train_test_split(X_scaled, y, test_size=0.3, random_state=42)"
   ]
  },
  {
   "cell_type": "code",
   "execution_count": null,
   "metadata": {},
   "outputs": [],
   "source": [
    "# Step 4: Train models
",
    "rf = RandomForestClassifier(random_state=42)
",
    "rf.fit(X_train, y_train)
",
    "rf_preds = rf.predict(X_test)
",
    "
",
    "xgb = XGBClassifier(use_label_encoder=False, eval_metric='mlogloss', random_state=42)
",
    "xgb.fit(X_train, y_train)
",
    "xgb_preds = xgb.predict(X_test)"
   ]
  },
  {
   "cell_type": "code",
   "execution_count": null,
   "metadata": {},
   "outputs": [],
   "source": [
    "# Step 5: Evaluation
",
    "def evaluate_model(name, y_true, y_pred):
",
    "    print(f"\nResults for {name}:")
",
    "    print("Accuracy:", accuracy_score(y_true, y_pred))
",
    "    print(classification_report(y_true, y_pred, target_names=le_target.classes_))
",
    "    cm = confusion_matrix(y_true, y_pred)
",
    "    sns.heatmap(cm, annot=True, fmt='d', cmap='Blues', xticklabels=le_target.classes_, yticklabels=le_target.classes_)
",
    "    plt.title(f"Confusion Matrix - {name}")
",
    "    plt.xlabel("Predicted")
",
    "    plt.ylabel("Actual")
",
    "    plt.show()"
   ]
  },
  {
   "cell_type": "code",
   "execution_count": null,
   "metadata": {},
   "outputs": [],
   "source": [
    "# Evaluate both
",
    "evaluate_model("Random Forest", y_test, rf_preds)
",
    "evaluate_model("XGBoost", y_test, xgb_preds)"
   ]
  },
  {
   "cell_type": "code",
   "execution_count": null,
   "metadata": {},
   "outputs": [],
   "source": [
    "# Step 6: Feature Importance
",
    "def plot_feature_importance(model, model_name):
",
    "    importances = model.feature_importances_
",
    "    feature_names = X.columns
",
    "    sorted_idx = np.argsort(importances)
",
    "    plt.figure(figsize=(8, 5))
",
    "    sns.barplot(x=importances[sorted_idx], y=feature_names[sorted_idx])
",
    "    plt.title(f"Feature Importance - {model_name}")
",
    "    plt.xlabel("Importance")
",
    "    plt.tight_layout()
",
    "    plt.show()
",
    "
",
    "plot_feature_importance(rf, "Random Forest")
",
    "plot_feature_importance(xgb, "XGBoost")"
   ]
  }
 ],
 "metadata": {
  "kernelspec": {
   "display_name": "Python 3",
   "language": "python",
   "name": "python3"
  },
  "language_info": {
   "name": "python",
   "version": "3.8"
  }
 },
 "nbformat": 4,
 "nbformat_minor": 2
}